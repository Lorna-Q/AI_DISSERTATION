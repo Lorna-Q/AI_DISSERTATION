{
 "cells": [
  {
   "cell_type": "code",
   "execution_count": 2,
   "id": "3d21e790",
   "metadata": {},
   "outputs": [],
   "source": [
    "import pandas as pd\n",
    "import matplotlib.pyplot as plt\n",
    "import numpy as np\n"
   ]
  },
  {
   "cell_type": "markdown",
   "id": "a0a5cc38",
   "metadata": {},
   "source": [
    "### Distribution of topics in statistical Benefit framework and Risk framework"
   ]
  },
  {
   "cell_type": "code",
   "execution_count": 4,
   "id": "e725bb1b",
   "metadata": {},
   "outputs": [
    {
     "name": "stdout",
     "output_type": "stream",
     "text": [
      "Percentage of Topics associated with Benefit:\n",
      "Topics\n",
      "Technical Progress           96.7\n",
      "Researchers                  91.7\n",
      "Education                    90.0\n",
      "Corporate News               89.5\n",
      "Economy and Market           85.7\n",
      "Human-Machine Competition    57.1\n",
      "Politics and Military        50.0\n",
      "Future Speculations          10.0\n",
      "Risk and Concerns             6.2\n",
      "Culture and Entertainment     NaN\n",
      "Name: count, dtype: float64\n",
      "\n",
      "Percentage of Topics associated with Risk:\n",
      "Topics\n",
      "Risk and Concerns            93.8\n",
      "Human-Machine Competition    50.0\n",
      "Politics and Military        50.0\n",
      "Corporate News               26.3\n",
      "Technical Progress           14.4\n",
      "Economy and Market           14.3\n",
      "Researchers                   8.3\n",
      "Culture and Entertainment     5.8\n",
      "Future Speculations           5.0\n",
      "Education                     NaN\n",
      "Name: count, dtype: float64\n"
     ]
    }
   ],
   "source": [
    "# Load the Excel file into a DataFrame\n",
    "file_path = '2001_coded.xlsx'\n",
    "df = pd.read_excel(file_path)\n",
    "\n",
    "# Count the total number of occurrences for each Topic\n",
    "topic_total_counts = df['Topics'].value_counts()\n",
    "\n",
    "# Count the number of occurrences where Benefit is not NaN for each Topic and calculate the percentage\n",
    "benefit_counts = df[df['Benefit'].notna()]['Topics'].value_counts()\n",
    "benefit_percentages = ((benefit_counts / topic_total_counts) * 100).round(1).sort_values(ascending=False)\n",
    "\n",
    "# Count the number of occurrences where Risk is not NaN for each Topic and calculate the percentage\n",
    "risk_counts = df[df['Risk'].notna()]['Topics'].value_counts()\n",
    "risk_percentages = ((risk_counts / topic_total_counts) * 100).round(1).sort_values(ascending=False)\n",
    "\n",
    "# Display the results\n",
    "print(\"Percentage of Topics associated with Benefit:\")\n",
    "print(benefit_percentages)\n",
    "\n",
    "print(\"\\nPercentage of Topics associated with Risk:\")\n",
    "print(risk_percentages)\n"
   ]
  },
  {
   "cell_type": "code",
   "execution_count": 5,
   "id": "660cf787",
   "metadata": {
    "scrolled": true
   },
   "outputs": [
    {
     "name": "stdout",
     "output_type": "stream",
     "text": [
      "Percentage of Topics associated with Benefit:\n",
      "Topic\n",
      "4     100.0\n",
      "7      95.7\n",
      "8      84.6\n",
      "5      83.3\n",
      "10     52.9\n",
      "2      51.2\n",
      "1      41.2\n",
      "9      26.3\n",
      "3       7.7\n",
      "6       NaN\n",
      "Name: count, dtype: float64\n",
      "\n",
      "Percentage of Topics associated with Risk:\n",
      "Topic\n",
      "3     84.6\n",
      "9     68.4\n",
      "10    58.8\n",
      "8     53.8\n",
      "2     48.8\n",
      "1     35.3\n",
      "5     16.7\n",
      "6     10.0\n",
      "7      2.2\n",
      "4      NaN\n",
      "Name: count, dtype: float64\n"
     ]
    }
   ],
   "source": [
    "# Load the Excel file into a DataFrame\n",
    "file_path = '2015_coded.xlsx'\n",
    "df = pd.read_excel(file_path)\n",
    "\n",
    "# Count the total number of occurrences for each Topic\n",
    "topic_total_counts = df['Topic'].value_counts()\n",
    "\n",
    "# Count the number of occurrences where Benefit is not NaN for each Topic and calculate the percentage\n",
    "benefit_counts = df[df['Benefit'].notna()]['Topic'].value_counts()\n",
    "benefit_percentages = ((benefit_counts / topic_total_counts) * 100).round(1).sort_values(ascending=False)\n",
    "\n",
    "# Count the number of occurrences where Risk is not NaN for each Topic and calculate the percentage\n",
    "risk_counts = df[df['Risk'].notna()]['Topic'].value_counts()\n",
    "risk_percentages = ((risk_counts / topic_total_counts) * 100).round(1).sort_values(ascending=False)\n",
    "\n",
    "# Display the results\n",
    "print(\"Percentage of Topics associated with Benefit:\")\n",
    "print(benefit_percentages)\n",
    "\n",
    "print(\"\\nPercentage of Topics associated with Risk:\")\n",
    "print(risk_percentages)\n"
   ]
  },
  {
   "cell_type": "code",
   "execution_count": 6,
   "id": "1b20928c",
   "metadata": {},
   "outputs": [
    {
     "name": "stdout",
     "output_type": "stream",
     "text": [
      "Percentage of Topics associated with Benefit:\n",
      "Topic\n",
      "5     100.0\n",
      "1      92.3\n",
      "2      69.7\n",
      "3      66.7\n",
      "6      24.2\n",
      "7      22.2\n",
      "9       9.7\n",
      "8       6.7\n",
      "4       NaN\n",
      "10      NaN\n",
      "Name: count, dtype: float64\n",
      "\n",
      "Percentage of Topics associated with Risk:\n",
      "Topic\n",
      "4     100.0\n",
      "10    100.0\n",
      "8      93.3\n",
      "9      67.7\n",
      "6      45.5\n",
      "3      45.0\n",
      "7      40.7\n",
      "2      21.2\n",
      "5       2.4\n",
      "1       NaN\n",
      "Name: count, dtype: float64\n"
     ]
    }
   ],
   "source": [
    "# Load the Excel file into a DataFrame\n",
    "file_path = '2023_coded.xlsx'\n",
    "df = pd.read_excel(file_path)\n",
    "\n",
    "# Count the total number of occurrences for each Topic\n",
    "topic_total_counts = df['Topic'].value_counts()\n",
    "\n",
    "# Count the number of occurrences where Benefit is not NaN for each Topic and calculate the percentage\n",
    "benefit_counts = df[df['Benefit'].notna()]['Topic'].value_counts()\n",
    "benefit_percentages = ((benefit_counts / topic_total_counts) * 100).round(1).sort_values(ascending=False)\n",
    "\n",
    "# Count the number of occurrences where Risk is not NaN for each Topic and calculate the percentage\n",
    "risk_counts = df[df['Risk'].notna()]['Topic'].value_counts()\n",
    "risk_percentages = ((risk_counts / topic_total_counts) * 100).round(1).sort_values(ascending=False)\n",
    "\n",
    "# Display the results\n",
    "print(\"Percentage of Topics associated with Benefit:\")\n",
    "print(benefit_percentages)\n",
    "\n",
    "print(\"\\nPercentage of Topics associated with Risk:\")\n",
    "print(risk_percentages)\n"
   ]
  },
  {
   "cell_type": "code",
   "execution_count": null,
   "id": "598e1ee5",
   "metadata": {},
   "outputs": [],
   "source": []
  },
  {
   "cell_type": "code",
   "execution_count": null,
   "id": "d79bc568",
   "metadata": {},
   "outputs": [],
   "source": []
  }
 ],
 "metadata": {
  "kernelspec": {
   "display_name": "Python 3 (ipykernel)",
   "language": "python",
   "name": "python3"
  },
  "language_info": {
   "codemirror_mode": {
    "name": "ipython",
    "version": 3
   },
   "file_extension": ".py",
   "mimetype": "text/x-python",
   "name": "python",
   "nbconvert_exporter": "python",
   "pygments_lexer": "ipython3",
   "version": "3.11.4"
  },
  "toc": {
   "base_numbering": 1,
   "nav_menu": {},
   "number_sections": true,
   "sideBar": true,
   "skip_h1_title": false,
   "title_cell": "Table of Contents",
   "title_sidebar": "Contents",
   "toc_cell": false,
   "toc_position": {},
   "toc_section_display": true,
   "toc_window_display": false
  }
 },
 "nbformat": 4,
 "nbformat_minor": 5
}
